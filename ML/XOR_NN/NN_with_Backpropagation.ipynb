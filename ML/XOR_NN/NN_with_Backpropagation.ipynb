{
 "cells": [
  {
   "cell_type": "code",
   "execution_count": 1,
   "metadata": {
    "collapsed": true
   },
   "outputs": [],
   "source": [
    "from random import random\n",
    "from random import seed\n",
    "from math import exp\n",
    "\n",
    "#pick up the architecure of the Network\n",
    "def initialize_network(n_inputs,n_hidden,n_outputs):\n",
    "    network=list()\n",
    "    #hidden layer\n",
    "    hidden_layer=[{'weights':[random() for i in range(n_inputs+1)]} for j in range(n_hidden)]#list of dicts\n",
    "    network.append(hidden_layer)\n",
    "    \n",
    "    #output layer\n",
    "    output_layer=[{'weights':[random() for i in range(n_hidden+1)]} for j in range(n_outputs)]\n",
    "    network.append(output_layer)\n",
    "    \n",
    "    return network\n",
    "    "
   ]
  },
  {
   "cell_type": "code",
   "execution_count": 2,
   "metadata": {
    "collapsed": false
   },
   "outputs": [],
   "source": [
    "XOR_data= [[0,0,0],\n",
    "          [0,1,1],\n",
    "          [1,0,1],\n",
    "          [1,1,0]]\n",
    "\n",
    "dataset = [[2.7810836,2.550537003,0],\n",
    "[1.465489372,2.362125076,0],\n",
    "[3.396561688,4.400293529,0],\n",
    "[1.38807019,1.850220317,0],\n",
    "[3.06407232,3.005305973,0],\n",
    "[7.627531214,2.759262235,1],\n",
    "[5.332441248,2.088626775,1],\n",
    "[6.922596716,1.77106367,1],\n",
    "[8.675418651,-0.242068655,1],\n",
    "[7.673756466,3.508563011,1]]\n",
    "\n",
    "n_inputs = len(dataset[0])-1\n",
    "n_hidden = 3\n",
    "n_outputs = len(set([row[-1] for row in dataset]))\n",
    "\n",
    "seed(1)\n",
    "network=initialize_network(n_inputs,n_hidden,n_outputs)"
   ]
  },
  {
   "cell_type": "code",
   "execution_count": 3,
   "metadata": {
    "collapsed": true
   },
   "outputs": [],
   "source": [
    "#Feed Forward the data(X)\n",
    "def feedforward(network,input_row):\n",
    "    row=input_row\n",
    "    for layer in network:\n",
    "        next_input=[]\n",
    "        for neuron in layer:\n",
    "            result=multiply(neuron['weights'],row)\n",
    "            result=activate_sigmoid(result)\n",
    "            neuron['output']=result\n",
    "            next_input.append(neuron['output'])\n",
    "        row=next_input\n",
    "    \n",
    "    return row"
   ]
  },
  {
   "cell_type": "code",
   "execution_count": 4,
   "metadata": {
    "collapsed": true
   },
   "outputs": [],
   "source": [
    "def multiply(weights,input_row):\n",
    "    result=weights[-1]\n",
    "    \n",
    "    for i in range(len(input_row)):\n",
    "        result+= weights[i]*input_row[i]\n",
    "    return result"
   ]
  },
  {
   "cell_type": "code",
   "execution_count": 5,
   "metadata": {
    "collapsed": true
   },
   "outputs": [],
   "source": [
    "def activate_sigmoid(value):\n",
    "    compressed_value= 1/(1+exp(-value))\n",
    "    return compressed_value"
   ]
  },
  {
   "cell_type": "code",
   "execution_count": 12,
   "metadata": {
    "collapsed": false
   },
   "outputs": [],
   "source": [
    "def backpropagate(network,expected):\n",
    "    \n",
    "    \n",
    "    for i in reversed (range(len(network))):\n",
    "        \n",
    "        layer=network[i]\n",
    "        errors=list()\n",
    "            \n",
    "        if i == len(network)-1:\n",
    "            #for output layer\n",
    "            \n",
    "            for j in range(len(layer)):\n",
    "                neuron=layer[j]\n",
    "                error=expected[j]-neuron['output']\n",
    "                errors.append(error)\n",
    "               \n",
    "        else:\n",
    "            #for hidden layer\n",
    "            \n",
    "            for j in range(len(layer)):\n",
    "                herror=0\n",
    "                nextlayer=network[i+1]\n",
    "                for neuron in nextlayer:\n",
    "                    herror+=(neuron['weights'][j]*neuron['delta'])\n",
    "                    \n",
    "                errors.append(herror)\n",
    "        \n",
    "        #delta values\n",
    "        for j in range(len(layer)):\n",
    "            neuron=layer[j]\n",
    "            neuron['delta']=errors[j]*sigmoidDerivative(neuron['output']) \n",
    "            "
   ]
  },
  {
   "cell_type": "code",
   "execution_count": 7,
   "metadata": {
    "collapsed": true
   },
   "outputs": [],
   "source": [
    "def sigmoidDerivative(output):\n",
    "    return output*(1.0-output)"
   ]
  },
  {
   "cell_type": "code",
   "execution_count": 8,
   "metadata": {
    "collapsed": true
   },
   "outputs": [],
   "source": [
    "def updateWeights(network,input,lrate):\n",
    "    for i in range(len(network)):\n",
    "        inputs = input[:-1]\n",
    "        if i!=0:\n",
    "            inputs=[neuron['output'] for neuron in network[i-1]]\n",
    "            \n",
    "        for neuron in network[i]:\n",
    "            for j in range(len(inputs)):\n",
    "                neuron['weights'][j]+=lrate*neuron['delta']*inputs[j]\n",
    "                \n",
    "            neuron['weights'][-1] += lrate * neuron['delta']"
   ]
  },
  {
   "cell_type": "code",
   "execution_count": 13,
   "metadata": {
    "collapsed": false
   },
   "outputs": [],
   "source": [
    "#Train the network\n",
    "import matplotlib.pyplot as plt\n",
    "import numpy as np\n",
    "l=np.arange(100)\n",
    "def train(network,data,lrate,epochs):\n",
    "    \n",
    "    errors=list()\n",
    "    for epoch in range(epochs):\n",
    "        error=0\n",
    "        for row in data:\n",
    "            feed_result=feedforward(network,row)\n",
    "            \n",
    "            expected=[0.0 for i in range(n_outputs)]\n",
    "            expected[row[-1]]=1\n",
    "            error+=sum([(expected[j]-feed_result[j])**2 for j in range(len(expected))])\n",
    "            \n",
    "            backpropagate(network,expected)\n",
    "            updateWeights(network,row,lrate)\n",
    "                \n",
    "        print('>epoch=%d,error=%.3f'%(epoch,error))\n",
    "        errors.append(error)\n",
    "    \n",
    "    \n",
    "    plt.plot(l,errors,marker='o')\n",
    "    plt.show()\n",
    "            \n",
    "        \n",
    "        "
   ]
  },
  {
   "cell_type": "code",
   "execution_count": 14,
   "metadata": {
    "collapsed": false
   },
   "outputs": [
    {
     "name": "stdout",
     "output_type": "stream",
     "text": [
      ">epoch=0,error=6.892\n",
      ">epoch=1,error=5.753\n",
      ">epoch=2,error=5.342\n",
      ">epoch=3,error=5.382\n",
      ">epoch=4,error=5.425\n",
      ">epoch=5,error=5.440\n",
      ">epoch=6,error=5.441\n",
      ">epoch=7,error=5.436\n",
      ">epoch=8,error=5.425\n",
      ">epoch=9,error=5.399\n",
      ">epoch=10,error=5.332\n",
      ">epoch=11,error=5.186\n",
      ">epoch=12,error=4.990\n",
      ">epoch=13,error=4.780\n",
      ">epoch=14,error=4.534\n",
      ">epoch=15,error=4.248\n",
      ">epoch=16,error=3.934\n",
      ">epoch=17,error=3.608\n",
      ">epoch=18,error=3.283\n",
      ">epoch=19,error=2.969\n",
      ">epoch=20,error=2.674\n",
      ">epoch=21,error=2.400\n",
      ">epoch=22,error=2.147\n",
      ">epoch=23,error=1.916\n",
      ">epoch=24,error=1.706\n",
      ">epoch=25,error=1.517\n",
      ">epoch=26,error=1.349\n",
      ">epoch=27,error=1.202\n",
      ">epoch=28,error=1.074\n",
      ">epoch=29,error=0.964\n",
      ">epoch=30,error=0.870\n",
      ">epoch=31,error=0.788\n",
      ">epoch=32,error=0.718\n",
      ">epoch=33,error=0.656\n",
      ">epoch=34,error=0.603\n",
      ">epoch=35,error=0.557\n",
      ">epoch=36,error=0.516\n",
      ">epoch=37,error=0.479\n",
      ">epoch=38,error=0.447\n",
      ">epoch=39,error=0.419\n",
      ">epoch=40,error=0.393\n",
      ">epoch=41,error=0.370\n",
      ">epoch=42,error=0.349\n",
      ">epoch=43,error=0.330\n",
      ">epoch=44,error=0.313\n",
      ">epoch=45,error=0.298\n",
      ">epoch=46,error=0.283\n",
      ">epoch=47,error=0.270\n",
      ">epoch=48,error=0.258\n",
      ">epoch=49,error=0.247\n",
      ">epoch=50,error=0.237\n",
      ">epoch=51,error=0.227\n",
      ">epoch=52,error=0.218\n",
      ">epoch=53,error=0.210\n",
      ">epoch=54,error=0.202\n",
      ">epoch=55,error=0.195\n",
      ">epoch=56,error=0.189\n",
      ">epoch=57,error=0.182\n",
      ">epoch=58,error=0.176\n",
      ">epoch=59,error=0.171\n",
      ">epoch=60,error=0.165\n",
      ">epoch=61,error=0.160\n",
      ">epoch=62,error=0.156\n",
      ">epoch=63,error=0.151\n",
      ">epoch=64,error=0.147\n",
      ">epoch=65,error=0.143\n",
      ">epoch=66,error=0.139\n",
      ">epoch=67,error=0.135\n",
      ">epoch=68,error=0.132\n",
      ">epoch=69,error=0.129\n",
      ">epoch=70,error=0.126\n",
      ">epoch=71,error=0.123\n",
      ">epoch=72,error=0.120\n",
      ">epoch=73,error=0.117\n",
      ">epoch=74,error=0.114\n",
      ">epoch=75,error=0.112\n",
      ">epoch=76,error=0.109\n",
      ">epoch=77,error=0.107\n",
      ">epoch=78,error=0.105\n",
      ">epoch=79,error=0.103\n",
      ">epoch=80,error=0.101\n",
      ">epoch=81,error=0.099\n",
      ">epoch=82,error=0.097\n",
      ">epoch=83,error=0.095\n",
      ">epoch=84,error=0.093\n",
      ">epoch=85,error=0.091\n",
      ">epoch=86,error=0.090\n",
      ">epoch=87,error=0.088\n",
      ">epoch=88,error=0.087\n",
      ">epoch=89,error=0.085\n",
      ">epoch=90,error=0.084\n",
      ">epoch=91,error=0.082\n",
      ">epoch=92,error=0.081\n",
      ">epoch=93,error=0.079\n",
      ">epoch=94,error=0.078\n",
      ">epoch=95,error=0.077\n",
      ">epoch=96,error=0.076\n",
      ">epoch=97,error=0.075\n",
      ">epoch=98,error=0.073\n",
      ">epoch=99,error=0.072\n"
     ]
    },
    {
     "data": {
      "image/png": "[encoded data removed]",
      "text/plain": [
       "<matplotlib.figure.Figure at 0x298201aa400>"
      ]
     },
     "metadata": {},
     "output_type": "display_data"
    }
   ],
   "source": [
    "train(network, dataset, 0.5, 100)"
   ]
  },
  {
   "cell_type": "code",
   "execution_count": 15,
   "metadata": {
    "collapsed": true
   },
   "outputs": [],
   "source": [
    "# Make a prediction with a network\n",
    "def predict(network, row):\n",
    "    outputs = feedforward(network, row)\n",
    "    return outputs.index(max(outputs))"
   ]
  },
  {
   "cell_type": "code",
   "execution_count": 16,
   "metadata": {
    "collapsed": false
   },
   "outputs": [
    {
     "name": "stdout",
     "output_type": "stream",
     "text": [
      "Expected=0, Got=0\n",
      "Expected=0, Got=0\n",
      "Expected=0, Got=0\n",
      "Expected=0, Got=0\n",
      "Expected=0, Got=0\n",
      "Expected=1, Got=1\n",
      "Expected=1, Got=1\n",
      "Expected=1, Got=1\n",
      "Expected=1, Got=1\n",
      "Expected=1, Got=1\n"
     ]
    }
   ],
   "source": [
    "for row in dataset:\n",
    "    prediction = predict(network, row)\n",
    "    print('Expected=%d, Got=%d' % (row[-1], prediction))\n",
    "\n"
   ]
  },
  {
   "cell_type": "code",
   "execution_count": null,
   "metadata": {
    "collapsed": true
   },
   "outputs": [],
   "source": []
  }
 ],
 "metadata": {
  "kernelspec": {
   "display_name": "Python 3",
   "language": "python",
   "name": "python3"
  },
  "language_info": {
   "codemirror_mode": {
    "name": "ipython",
    "version": 3
   },
   "file_extension": ".py",
   "mimetype": "text/x-python",
   "name": "python",
   "nbconvert_exporter": "python",
   "pygments_lexer": "ipython3",
   "version": "3.6.0"
  }
 },
 "nbformat": 4,
 "nbformat_minor": 2
}
