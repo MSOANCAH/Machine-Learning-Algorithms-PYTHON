{
 "cells": [
  {
   "cell_type": "code",
   "execution_count": 1,
   "metadata": {
    "collapsed": false
   },
   "outputs": [],
   "source": [
    "import tensorflow as tf\n",
    "\n",
    "X = tf.placeholder(\"float\", [None,2])# 2 featuress\n",
    "Y = tf.placeholder(\"float\", [None,2]) # 2 classes\n",
    "\n",
    "W_H = tf.Variable(tf.random_normal([2,2], stddev=0.01)) #Hidden layer weights\n",
    "#b1 = tf.Variable(tf.random_normal([1]))\n",
    "#W_O = tf.Variable(tf.random_normal([3,2], stddev=0.01))  # output layer weights\n",
    "#b2 = tf.Variable(tf.random_normal([1]))\n",
    "\n",
    "#h = tf.nn.sigmoid(tf.matmul(X, W_H))\n",
    "Y_pred = tf.matmul(X,W_H)"
   ]
  },
  {
   "cell_type": "code",
   "execution_count": 2,
   "metadata": {
    "collapsed": false
   },
   "outputs": [],
   "source": [
    "dataset = [[2.7810836,2.550537003,0],\n",
    "[1.465489372,2.362125076,0],\n",
    "[3.396561688,4.400293529,0],\n",
    "[1.38807019,1.850220317,0],\n",
    "[3.06407232,3.005305973,0],\n",
    "[7.627531214,2.759262235,1],\n",
    "[5.332441248,2.088626775,1],\n",
    "[6.922596716,1.77106367,1],\n",
    "[8.675418651,-0.242068655,1],\n",
    "[7.673756466,3.508563011,1]]\n",
    "XOR_data= [[0,0,0],\n",
    "          [0,1,1],\n",
    "          [1,0,1],\n",
    "          [1,1,0]]\n",
    "train_X=[]\n",
    "train_Y=[]\n",
    "\n",
    "for row in dataset:\n",
    "    train_X.append(row[0:-1])\n",
    "    train_Y.append(row[-1])"
   ]
  },
  {
   "cell_type": "code",
   "execution_count": 3,
   "metadata": {
    "collapsed": false
   },
   "outputs": [],
   "source": [
    "import numpy as np\n",
    "train_X=np.array(train_X)\n",
    "train_Y=np.array(train_Y)\n",
    "test_X=train_X\n",
    "test_Y=train_Y"
   ]
  },
  {
   "cell_type": "code",
   "execution_count": 4,
   "metadata": {
    "collapsed": false
   },
   "outputs": [
    {
     "name": "stdout",
     "output_type": "stream",
     "text": [
      "[0 0 0 0 0 1 1 1 1 1]\n"
     ]
    },
    {
     "data": {
      "text/plain": [
       "(10,)"
      ]
     },
     "execution_count": 4,
     "metadata": {},
     "output_type": "execute_result"
    }
   ],
   "source": [
    "print(train_Y)\n",
    "train_Y.shape"
   ]
  },
  {
   "cell_type": "code",
   "execution_count": 5,
   "metadata": {
    "collapsed": false
   },
   "outputs": [],
   "source": [
    "# convert the data \n",
    "\n",
    "temp = train_Y.shape\n",
    "train_Y = train_Y.reshape(temp[0], 1)\n",
    "train_Y = np.concatenate((1-train_Y, train_Y), axis=1)\n",
    "\n",
    "temp = test_Y.shape\n",
    "test_Y = test_Y.reshape(temp[0], 1)\n",
    "test_Y = np.concatenate((1-test_Y, test_Y), axis=1)"
   ]
  },
  {
   "cell_type": "code",
   "execution_count": 6,
   "metadata": {
    "collapsed": false
   },
   "outputs": [
    {
     "name": "stdout",
     "output_type": "stream",
     "text": [
      "[[1 0]\n",
      " [1 0]\n",
      " [1 0]\n",
      " [1 0]\n",
      " [1 0]\n",
      " [0 1]\n",
      " [0 1]\n",
      " [0 1]\n",
      " [0 1]\n",
      " [0 1]]\n"
     ]
    },
    {
     "data": {
      "text/plain": [
       "(10, 2)"
      ]
     },
     "execution_count": 6,
     "metadata": {},
     "output_type": "execute_result"
    }
   ],
   "source": [
    "print(train_Y)\n",
    "train_Y.shape"
   ]
  },
  {
   "cell_type": "code",
   "execution_count": 7,
   "metadata": {
    "collapsed": false
   },
   "outputs": [],
   "source": [
    "cost=tf.reduce_mean(tf.nn.softmax_cross_entropy_with_logits(logits=Y_pred, labels=Y))"
   ]
  },
  {
   "cell_type": "code",
   "execution_count": 8,
   "metadata": {
    "collapsed": false
   },
   "outputs": [],
   "source": [
    "optimizer=tf.train.GradientDescentOptimizer(0.05).minimize(cost)"
   ]
  },
  {
   "cell_type": "code",
   "execution_count": 9,
   "metadata": {
    "collapsed": false
   },
   "outputs": [],
   "source": [
    "predict_op = tf.argmax(Y_pred, 1)"
   ]
  },
  {
   "cell_type": "code",
   "execution_count": 10,
   "metadata": {
    "collapsed": false
   },
   "outputs": [
    {
     "name": "stdout",
     "output_type": "stream",
     "text": [
      "\n",
      "Cost  0.588429\n",
      "epoch : 0 and accuracy : 0.5\n",
      "testing labels for test data\n",
      "[1 1 1 1 1 1 1 1 1 1]\n",
      "\n",
      "Cost  0.362094\n",
      "epoch : 10 and accuracy : 1.0\n",
      "testing labels for test data\n",
      "[0 0 0 0 0 1 1 1 1 1]\n",
      "\n",
      "Cost  0.267025\n",
      "epoch : 20 and accuracy : 1.0\n",
      "testing labels for test data\n",
      "[0 0 0 0 0 1 1 1 1 1]\n",
      "\n",
      "Cost  0.21321\n",
      "epoch : 30 and accuracy : 1.0\n",
      "testing labels for test data\n",
      "[0 0 0 0 0 1 1 1 1 1]\n",
      "\n",
      "Cost  0.178181\n",
      "epoch : 40 and accuracy : 1.0\n",
      "testing labels for test data\n",
      "[0 0 0 0 0 1 1 1 1 1]\n",
      "\n",
      "Cost  0.15342\n",
      "epoch : 50 and accuracy : 1.0\n",
      "testing labels for test data\n",
      "[0 0 0 0 0 1 1 1 1 1]\n",
      "\n",
      "Cost  0.134925\n",
      "epoch : 60 and accuracy : 1.0\n",
      "testing labels for test data\n",
      "[0 0 0 0 0 1 1 1 1 1]\n",
      "\n",
      "Cost  0.120549\n",
      "epoch : 70 and accuracy : 1.0\n",
      "testing labels for test data\n",
      "[0 0 0 0 0 1 1 1 1 1]\n",
      "\n",
      "Cost  0.109035\n",
      "epoch : 80 and accuracy : 1.0\n",
      "testing labels for test data\n",
      "[0 0 0 0 0 1 1 1 1 1]\n",
      "\n",
      "Cost  0.0995931\n",
      "epoch : 90 and accuracy : 1.0\n",
      "testing labels for test data\n",
      "[0 0 0 0 0 1 1 1 1 1]\n"
     ]
    }
   ],
   "source": [
    "epochs = 100\n",
    "\n",
    "with tf.Session() as sess:\n",
    "    # you need to initialize all variables\n",
    "    sess.run(tf.global_variables_initializer())\n",
    "    \n",
    "    for epoch in range(epochs):\n",
    "        \n",
    "        sess.run(optimizer,feed_dict={X : train_X , Y : train_Y})\n",
    "        \n",
    "        if epoch % 10 == 0:\n",
    "            print()\n",
    "            print('Cost ', sess.run(cost, feed_dict={X : train_X , Y : train_Y}))\n",
    "            \n",
    "            print(\"epoch : {} and accuracy : {}\" .format(epoch, np.mean(np.argmax(test_Y, axis=1) ==\n",
    "                         sess.run(predict_op, feed_dict={X: test_X}))))\n",
    "            \n",
    "            print(\"testing labels for test data\")\n",
    "            print(sess.run(predict_op, feed_dict={X: test_X}))"
   ]
  },
  {
   "cell_type": "code",
   "execution_count": null,
   "metadata": {
    "collapsed": true
   },
   "outputs": [],
   "source": []
  },
  {
   "cell_type": "code",
   "execution_count": null,
   "metadata": {
    "collapsed": true
   },
   "outputs": [],
   "source": []
  }
 ],
 "metadata": {
  "kernelspec": {
   "display_name": "Python 3",
   "language": "python",
   "name": "python3"
  },
  "language_info": {
   "codemirror_mode": {
    "name": "ipython",
    "version": 3
   },
   "file_extension": ".py",
   "mimetype": "text/x-python",
   "name": "python",
   "nbconvert_exporter": "python",
   "pygments_lexer": "ipython3",
   "version": "3.6.0"
  }
 },
 "nbformat": 4,
 "nbformat_minor": 2
}
